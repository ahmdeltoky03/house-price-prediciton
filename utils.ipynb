{
 "cells": [
  {
   "cell_type": "code",
   "execution_count": 7,
   "id": "f78a377b-fa05-4e1f-a48f-912c22e1c4e3",
   "metadata": {},
   "outputs": [],
   "source": [
    "## Main Libraries\n",
    "\n",
    "import pandas as pd\n",
    "\n",
    "## sklearn Modulos\n",
    "from sklearn.model_selection import train_test_split\n",
    "from sklearn.impute import SimpleImputer\n",
    "from sklearn.preprocessing import StandardScaler,OneHotEncoder\n",
    "from sklearn.pipeline import Pipeline,FeatureUnion\n",
    "from sklearn_features.transformers import DataFrameSelector\n",
    "from xgboost import XGBRegressor\n",
    "\n",
    "import os\n",
    "import joblib"
   ]
  },
  {
   "cell_type": "code",
   "execution_count": 37,
   "id": "b185c140-8644-4bc0-bc82-23bb10cb1bc4",
   "metadata": {},
   "outputs": [
    {
     "name": "stdout",
     "output_type": "stream",
     "text": [
      "Numerical Columns :  ['longitude', 'latitude', 'housing_median_age', 'total_rooms', 'total_bedrooms', 'population', 'households', 'median_income', 'rooms_per_household', 'bedrooms_per_rooms', 'population_per_household']\n",
      "Categorical Columns :  ['ocean_proximity']\n"
     ]
    }
   ],
   "source": [
    "## read and overview Dataset\n",
    "data_path = os.path.join(os.getcwd(), 'housing.csv')\n",
    "df_housing = pd.read_csv(data_path) \n",
    "\n",
    "# print(df_housing.shape)\n",
    "## modifiy some values in ocean_proximity  \n",
    "df_housing['ocean_proximity'] = df_housing['ocean_proximity'].apply(lambda x : '1H OCEAN' if x == '<1H OCEAN' else x)\n",
    "\n",
    "## Feature Extraction\n",
    "df_housing['rooms_per_household'] = df_housing['total_rooms'] / df_housing['households']\n",
    "df_housing['bedrooms_per_rooms'] = df_housing['total_bedrooms'] / df_housing['total_rooms']\n",
    "df_housing['population_per_household'] = df_housing['population'] / df_housing['households']\n",
    "\n",
    "## split the dataset features & target\n",
    "## target --> median_house_value \n",
    "x = df_housing.drop(columns='median_house_value',axis=1)\n",
    "y = df_housing['median_house_value']\n",
    "\n",
    "## split data to train and test and shuffle it\n",
    "x_train, x_test, y_train, y_test = train_test_split(x, y, shuffle=True,test_size=.15)\n",
    "\n",
    "## show numerical and categorical columns\n",
    "num_col = [col for col in x_train.columns if x_train[col].dtype in ['int32','int64','float32','float64']]\n",
    "categ_col = [col for col in x_train.columns if x_train[col].dtype not in ['int32','int64','float32','float64']]\n",
    "\n",
    "print('Numerical Columns : ',num_col)\n",
    "print('Categorical Columns : ',categ_col)"
   ]
  },
  {
   "cell_type": "code",
   "execution_count": 38,
   "id": "e27d1855-6dbf-47bd-9750-9f2f6dde2208",
   "metadata": {},
   "outputs": [],
   "source": [
    "num_pipeline = Pipeline(steps=[\n",
    "                ('selector',DataFrameSelector(num_col)),\n",
    "                ('imputer',SimpleImputer(strategy='median')),\n",
    "                ('scaler',StandardScaler())\n",
    "                ])\n",
    "categ_pipeline = Pipeline(steps=[\n",
    "                ('selector',DataFrameSelector(categ_col)),\n",
    "                ('imputer',SimpleImputer(strategy='most_frequent')),\n",
    "                ('ohe',OneHotEncoder(sparse_output=False))\n",
    "                ])\n",
    "total_pipline = FeatureUnion(transformer_list=[\n",
    "                                ('num',num_pipeline),\n",
    "                                ('categ',categ_pipeline)\n",
    "                                ])\n",
    "\n",
    "x_train_final = total_pipline.fit_transform(x_train)"
   ]
  },
  {
   "cell_type": "code",
   "execution_count": 46,
   "id": "a25a6d36-b131-450a-a368-2f4883a52d64",
   "metadata": {},
   "outputs": [],
   "source": [
    "def preprocess_new(x_new):\n",
    "    return total_pipline.transform(x_new)"
   ]
  },
  {
   "cell_type": "code",
   "execution_count": 48,
   "id": "72a3ace5-52fc-4bba-9722-5547a99fa1b1",
   "metadata": {},
   "outputs": [],
   "source": [
    "# preprocess_new(x_test.iloc[:10])"
   ]
  },
  {
   "cell_type": "code",
   "execution_count": null,
   "id": "b594b21b-1118-4cf5-8013-d1b2e8260f0e",
   "metadata": {},
   "outputs": [],
   "source": []
  }
 ],
 "metadata": {
  "kernelspec": {
   "display_name": "Python 3 (ipykernel)",
   "language": "python",
   "name": "python3"
  },
  "language_info": {
   "codemirror_mode": {
    "name": "ipython",
    "version": 3
   },
   "file_extension": ".py",
   "mimetype": "text/x-python",
   "name": "python",
   "nbconvert_exporter": "python",
   "pygments_lexer": "ipython3",
   "version": "3.12.4"
  }
 },
 "nbformat": 4,
 "nbformat_minor": 5
}
